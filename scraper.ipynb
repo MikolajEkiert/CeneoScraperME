{
 "cells": [
  {
   "attachments": {},
   "cell_type": "markdown",
   "metadata": {},
   "source": [
    "## Ceneo Scraper"
   ]
  },
  {
   "cell_type": "markdown",
   "metadata": {},
   "source": [
    "## Ceneo Scraper"
   ]
  },
  {
   "cell_type": "markdown",
   "metadata": {},
   "source": [
    "## Struktura pojedyńczej opinii składowych pojedynczej opinii\n",
    "|Składowa|Selektor|Zmienna|\n",
    "|--------|--------|-------|\n",
    "|id opinii|[\"data-entry-id\"]|opinion_id|\n",
    "|autor|span.user-post__author-name|author|\n",
    "|rekomendacje|span.user-post__author-recomendation|recommendations|\n",
    "|gwiazdki|span.user-post__score-count|stars|\n",
    "|tresci|div.user-post__text|content|\n",
    "|lista zalet|div.review-feature__title--positives ~ div.review-feature__item|pros|\n",
    "|lista wad|div.review-feature__title--negatives ~ div.review-feature__item|cons|\n",
    "|dla ilu przdatna|button.vote-yes > span|helpful|\n",
    "|dla ilu nieprzydatna|button.vote-no > span|unhelpful|\n",
    "|data wystawienia|span.user-post__published > time:nth-child(1)[\"datetime\"]|publish_date|\n",
    "|data zakupu|span.user-post__published > time:nth-child(2)[\"datetime\"]|purchase_date|"
   ]
  },
  {
   "cell_type": "markdown",
   "metadata": {},
   "source": [
    "### Załadowanie bibliotek"
   ]
  },
  {
   "cell_type": "code",
   "execution_count": 29,
   "metadata": {},
   "outputs": [],
   "source": [
    "import os\n",
    "import json\n",
    "import requests\n",
    "from bs4 import BeautifulSoup"
   ]
  },
  {
   "cell_type": "markdown",
   "metadata": {},
   "source": [
    "## Funckcja do"
   ]
  },
  {
   "cell_type": "code",
   "execution_count": 30,
   "metadata": {},
   "outputs": [],
   "source": [
    "def extract(ancestor, selector=None, attribute=None, return_list=False):\n",
    "    if selector:\n",
    "        if return_list:\n",
    "            if attribute:\n",
    "                return [tag[attribute].strip() for tag in ancestor.select(selector)]\n",
    "            return [tag.text.strip() for tag in ancestor.select(selector)]\n",
    "        if attribute:\n",
    "            try:\n",
    "                return ancestor.select_one(selector)[attribute].strip()\n",
    "            except TypeError:\n",
    "                return None\n",
    "        try:\n",
    "            return ancestor.select_one(selector).text.strip()\n",
    "        except:\n",
    "            return None\n",
    "    if attribute:\n",
    "        return ancestor[attribute]\n",
    "    return ancestor.text.strip()"
   ]
  },
  {
   "cell_type": "code",
   "execution_count": 31,
   "metadata": {},
   "outputs": [],
   "source": [
    "selectors = {\n",
    "    'opinion_id': (None, \"data-entry-id\"),\n",
    "    'author': (\"span.user-post__author-name\",),\n",
    "    'recommendation': (\"span.user-post__author-recomendation\",),\n",
    "    'stars': (\"span.user-post__score-count\",),\n",
    "    'content': (\"div.user-post__text\",),\n",
    "    'pros': (\"div.review-feature__title--positives ~ div.review-feature__item\", None, True),\n",
    "    'cons': (\"div.review-feature__title--negatives ~ div.review-feature__item\", None, True),\n",
    "    'helpful': (\"button.vote-yes > span\",),\n",
    "    'unhelpful': (\"button.vote-no > span\",),\n",
    "    'publish_date': (\"span.user-post__published > time:nth-child(1)\", \"datetime\"),\n",
    "    'purchase_date': (\"span.user-post__published > time:nth-child(2)\", \"datetime\"),\n",
    "}"
   ]
  },
  {
   "cell_type": "markdown",
   "metadata": {},
   "source": [
    "### Adres URL pierwszej strony z opiniami o produkcie"
   ]
  },
  {
   "cell_type": "code",
   "execution_count": 32,
   "metadata": {},
   "outputs": [],
   "source": [
    "## product_id = \"138331381\"\n",
    "product_id = \"39562616\"\n",
    "url = f\"https://www.ceneo.pl/{product_id}#tab=reviews\""
   ]
  },
  {
   "cell_type": "markdown",
   "metadata": {},
   "source": [
    "### Pobranie wszystkich opinii o produkcie"
   ]
  },
  {
   "cell_type": "code",
   "execution_count": 33,
   "metadata": {},
   "outputs": [
    {
     "name": "stdout",
     "output_type": "stream",
     "text": [
      "https://www.ceneo.pl//39562616/opinie-2\n",
      "https://www.ceneo.pl//39562616/opinie-3\n",
      "https://www.ceneo.pl//39562616/opinie-4\n",
      "https://www.ceneo.pl//39562616/opinie-5\n",
      "https://www.ceneo.pl//39562616/opinie-6\n",
      "https://www.ceneo.pl//39562616/opinie-7\n",
      "https://www.ceneo.pl//39562616/opinie-8\n",
      "https://www.ceneo.pl//39562616/opinie-9\n",
      "https://www.ceneo.pl//39562616/opinie-10\n",
      "https://www.ceneo.pl//39562616/opinie-11\n",
      "https://www.ceneo.pl//39562616/opinie-12\n",
      "https://www.ceneo.pl//39562616/opinie-13\n",
      "https://www.ceneo.pl//39562616/opinie-14\n",
      "None\n"
     ]
    }
   ],
   "source": [
    "all_opinions = []\n",
    "while(url):\n",
    "    response = requests.get(url)\n",
    "    page_dom = BeautifulSoup(response.text, \"html.parser\")\n",
    "    opinions = page_dom.select(\"div.js_product-review\")\n",
    "    for opinion in opinions:\n",
    "        single_opinion = {\n",
    "            key: extract(opinion, *value)\n",
    "            for key, value in selectors.items()\n",
    "        }\n",
    "        all_opinions.append(single_opinion)\n",
    "    try:\n",
    "        url = \"https://www.ceneo.pl/\"+page_dom.select_one(\"a.pagination__next\")[\"href\"].strip()\n",
    "    except TypeError: url = None\n",
    "    print(url)"
   ]
  },
  {
   "cell_type": "markdown",
   "metadata": {},
   "source": [
    "## Zapis opinii o produkcie do pliku JSON"
   ]
  },
  {
   "cell_type": "code",
   "execution_count": 34,
   "metadata": {},
   "outputs": [],
   "source": [
    "if not os.path.exists(\"opinions\"):\n",
    "    os.makedirs(\"opinions\")\n",
    "with open(f\"opinions/{product_id}.json\", \"w\", encoding=\"UTF-8\") as jf:\n",
    "    json.dump(all_opinions, jf, indent=4, ensure_ascii=False)"
   ]
  },
  {
   "attachments": {},
   "cell_type": "markdown",
   "metadata": {},
   "source": [
    "## Struktura pojedynczej opinii\n",
    "|Składowa|Selektor|zmienna|\n",
    "|--------|--------|-------|\n",
    "|id opinii|[data-entry-id]| opinion_id|\n",
    "|autor|span.user-post__author-name|author|\n",
    "|rekomendacja|span.user-post__author-recomendation|recommendation|\n",
    "|gwiazdki|span.user-post__score-count|stars|\n",
    "|treść|div.user-post__text|contents|\n",
    "|lista zalet|div.review-feature__title--positives ~ div.review-feature_item|pros|\n",
    "|lisita wad|div.review-feature__title--negatives ~ div.review-feature_item|cons| \n",
    "|dla ilu przydatna|button.vote-yes > span|helpful|\n",
    "|dla ilu nieprzydatna| button.vote-no > span|unhelpful|\n",
    "|data wystawienia|span.user-post_published > time:nth-child(1)[\"datetime\"]|publish_date|\n",
    "|data zakupu|span.user-post_published > time:nth-child(2)[\"datetime\"]|purchase_date|\n"
   ]
  },
  {
   "attachments": {},
   "cell_type": "markdown",
   "metadata": {},
   "source": [
    "## załadowanie bibliotek\n"
   ]
  },
  {
   "cell_type": "code",
   "execution_count": 35,
   "metadata": {},
   "outputs": [],
   "source": [
    "import requests\n",
    "from bs4 import BeautifulSoup\n",
    "import json\n",
    "import os"
   ]
  },
  {
   "cell_type": "code",
   "execution_count": 36,
   "metadata": {},
   "outputs": [],
   "source": [
    "def extract(ancestor, selector=None, attribute=None, return_list=False):\n",
    "    if selector:\n",
    "        if return_list:\n",
    "            if attribute:\n",
    "                return [tag[attribute].strip() for tag in ancestor.select(selector)]\n",
    "            return [tag.text.strip() for tag in ancestor.select(selector)]\n",
    "        if attribute:\n",
    "            try:\n",
    "                return ancestor.select_one(selector)[attribute].strip()\n",
    "            except TypeError:\n",
    "                    return None\n",
    "        try:\n",
    "            return ancestor.select_one(selector).text.strip()\n",
    "        except AttributeError:\n",
    "            return None\n",
    "    if attribute:\n",
    "        return ancestor[attribute].strip()\n",
    "    return "
   ]
  },
  {
   "attachments": {},
   "cell_type": "markdown",
   "metadata": {},
   "source": [
    "## Selektory składowych opinii"
   ]
  },
  {
   "cell_type": "code",
   "execution_count": 37,
   "metadata": {},
   "outputs": [],
   "source": [
    "selectors= {\n",
    "    'opinion_id' : (None, \"data-entry-id\"),\n",
    "    'author' : ( \"span.user-post__author-name\",),\n",
    "    'recommendation' : (\"span.user-post__author-recomendation\",),\n",
    "    'stars' : (\"span.user-post__score-count\",),\n",
    "    'contents' : (\"div.user-post__text\",),\n",
    "    'pros' : (\"div.review-feature__title-review-feature__title--positives ~ div.review-feature__item\", None, True),\n",
    "    'cons' : (\"div.review-feature__title-review-feature__title--negatives ~ div.review-feature__item\", None, True),\n",
    "    'helpful' : (\"button.vote-yes > span\",),\n",
    "    'unhelpful' : (\"button.vote-no > span\",),\n",
    "    'publish_date' :(\"span.user-post__published > time:nth-child(1)\", \"datetime\"),\n",
    "    'purchase_date' :  (\"span.user-post__published > time:nth-child(2)\",\"datetime\")\n",
    "}"
   ]
  },
  {
   "attachments": {},
   "cell_type": "markdown",
   "metadata": {},
   "source": [
    "## Adres URL pierwszej strony z opiniami"
   ]
  },
  {
   "cell_type": "code",
   "execution_count": 38,
   "metadata": {},
   "outputs": [],
   "source": [
    "product_id = \"74947770\"\n",
    "url = f\"https://www.ceneo.pl/{product_id}#tab=reviews\""
   ]
  },
  {
   "attachments": {},
   "cell_type": "markdown",
   "metadata": {},
   "source": [
    "## Pobieranie wszystkich opinii o produkcie "
   ]
  },
  {
   "cell_type": "code",
   "execution_count": 39,
   "metadata": {},
   "outputs": [],
   "source": [
    "all_opinions = []\n",
    "while(url):\n",
    "    response = requests.get(url)\n",
    "    response.status_code\n",
    "    page_dom = BeautifulSoup(response.text, \"html.parser\")\n",
    "    opinions = page_dom.select(\"div.js_product-review\")\n",
    "    opinion = opinions.pop(0)\n",
    "    for opinion in opinions:\n",
    "        single_opinion= {\n",
    "            key: extract(opinion, *value)\n",
    "            for key, value in selectors.items()\n",
    "        }\n",
    "        all_opinions.append(single_opinion)\n",
    "    try:\n",
    "        url = \"https://www.ceneo.pl/\"+ page_dom.select_one(\"a.pagination__next\")[\"href\"].strip()\n",
    "    except TypeError:\n",
    "        url = None"
   ]
  },
  {
   "attachments": {},
   "cell_type": "markdown",
   "metadata": {},
   "source": [
    "## Zapis opinii do pliku JSON"
   ]
  },
  {
   "cell_type": "code",
   "execution_count": 40,
   "metadata": {},
   "outputs": [],
   "source": [
    "page_dom = BeautifulSoup(response.text , 'html.parser')"
   ]
  },
  {
   "cell_type": "code",
   "execution_count": 41,
   "metadata": {},
   "outputs": [],
   "source": [
    "if not os.path.exists(\"opinions\"):\n",
    "    os.makedirs(\"opinions\")\n",
    "with open(f\"opinions/{product_id}.json\", \"w\", encoding=\"UTF-8\") as jf:\n",
    "    json.dump(all_opinions,jf ,  indent=4, ensure_ascii=False)"
   ]
  }
 ],
 "metadata": {
  "kernelspec": {
   "display_name": ".venv",
   "language": "python",
   "name": "python3"
  },
  "language_info": {
   "codemirror_mode": {
    "name": "ipython",
    "version": 3
   },
   "file_extension": ".py",
   "mimetype": "text/x-python",
   "name": "python",
   "nbconvert_exporter": "python",
   "pygments_lexer": "ipython3",
   "version": "3.11.4"
  },
  "orig_nbformat": 4
 },
 "nbformat": 4,
 "nbformat_minor": 2
}
