{
 "cells": [
  {
   "attachments": {},
   "cell_type": "markdown",
   "metadata": {},
   "source": [
    "## Ceneo Scraper"
   ]
  },
  {
   "attachments": {},
   "cell_type": "markdown",
   "metadata": {},
   "source": [
    "## załadowanie bibliotek\n"
   ]
  },
  {
   "cell_type": "code",
   "execution_count": 60,
   "metadata": {},
   "outputs": [],
   "source": [
    "import requests\n",
    "from bs4 import BeautifulSoup\n",
    "import json\n",
    "import os"
   ]
  },
  {
   "attachments": {},
   "cell_type": "markdown",
   "metadata": {},
   "source": [
    "## Adres URL pierwszej strony z opiniami"
   ]
  },
  {
   "cell_type": "code",
   "execution_count": 61,
   "metadata": {},
   "outputs": [],
   "source": [
    "product_id = \"138331381\"\n",
    "url = f\"https://www.ceneo.pl/{product_id}#tab=reviews\""
   ]
  },
  {
   "attachments": {},
   "cell_type": "markdown",
   "metadata": {},
   "source": [
    "## Pobieranie wszystkich opinii o produkcie "
   ]
  },
  {
   "cell_type": "code",
   "execution_count": 62,
   "metadata": {},
   "outputs": [
    {
     "name": "stdout",
     "output_type": "stream",
     "text": [
      "/138331381/opinie-2\n",
      "/138331381/opinie-2\n"
     ]
    }
   ],
   "source": [
    "all_opinions = []\n",
    "while(url):\n",
    "    response = requests.get(url)\n",
    "    response.status_code\n",
    "    page_dom = BeautifulSoup(response.text, \"html.parser\")\n",
    "    opinions = page_dom.select(\"div.js_product-review\")\n",
    "    opinion = opinions.pop(0)\n",
    "    for opinion in opinions:\n",
    "        single_opinion= {\n",
    "            'opinion_id' : opinion[\"data-entry-id\"],\n",
    "            'author' : opinion.select_one(\"span.user-post__author-name\").text.strip(),\n",
    "            'recommendation' : opinion.select_one(\"span.user-post__author-recomendation\").text.strip(),\n",
    "            'stars' : opinion.select_one(\"span.user-post__score-count\").text.strip(),\n",
    "            'contents' : opinion.select_one(\"div.user-post__text\").text.strip(),\n",
    "            'pros' : [p.text.strip() for p in opinion.select(\"div.review-feature__title review-feature__title--positives ~ div.review-feature__item\")],\n",
    "            'cons' : [c.text.strip() for c in opinion.select(\"div.review-feature__title review-feature__title--negatives ~ div.review-feature__item\")],\n",
    "            'helpful' : opinion.select_one(\"button.vote-yes > span\").text.strip(),\n",
    "            'unhelpful' : opinion.select_one(\"button.vote-no > span\").text.strip(),\n",
    "            'publish_date' : opinion.select_one(\"span.user-post__published > time:nth-child(1)\")[\"datetime\"].strip(),\n",
    "            'purchase_date' :  opinion.select_one(\"span.user-post__published > time:nth-child(2)\")[\"datetime\"].strip()\n",
    "        }\n",
    "        all_opinions.append(single_opinion)\n",
    "    try:\n",
    "        url = \"https://www.ceneo.pl/\"+ page_dom.select_one(\"a.pagination__next\")[\"href\"].strip()\n",
    "    except TypeError: url = False\n",
    "    print(next_page)"
   ]
  },
  {
   "attachments": {},
   "cell_type": "markdown",
   "metadata": {},
   "source": [
    "## Zapis opinii do pliku"
   ]
  },
  {
   "cell_type": "code",
   "execution_count": 63,
   "metadata": {},
   "outputs": [],
   "source": [
    "page_dom = BeautifulSoup(response.text , 'html.parser')"
   ]
  },
  {
   "attachments": {},
   "cell_type": "markdown",
   "metadata": {},
   "source": [
    "## Struktura pojedynczej opinii\n",
    "|Składowa|Selektor|zmienna|\n",
    "|--------|--------|-------|\n",
    "|id opinii|[data-entry-id]| opinion_id|\n",
    "|autor|span.user-post__author-name|author|\n",
    "|rekomendacja|span.user-post__author-recomendation|recommendation|\n",
    "|gwiazdki|span.user-post__score-count|stars|\n",
    "|treść|div.user-post__text|contents|\n",
    "|lista zalet|div.review-feature__title--positives ~ div.review-feature_item|pros|\n",
    "|lisita wad|div.review-feature__title--negatives ~ div.review-feature_item|cons| \n",
    "|dla ilu przydatna|button.vote-yes > span|helpful|\n",
    "|dla ilu nieprzydatna| button.vote-no > span|unhelpful|\n",
    "|data wystawienia|span.user-post_published > time:nth-child(1)[\"datetime\"]|publish_date|\n",
    "|data zakupu|span.user-post_published > time:nth-child(2)[\"datetime\"]|purchase_date|\n"
   ]
  },
  {
   "cell_type": "code",
   "execution_count": 64,
   "metadata": {},
   "outputs": [],
   "source": [
    "if not os.path.exists(\"opinions\"):\n",
    "    os.makedirs(\"opinions\")\n",
    "with open(f\"opinions/{product_id}.json\", \"w\", encoding=\"UTF-8\") as jf:\n",
    "    json.dump(all_opinions,jf ,  indent=4, ensure_ascii=False)"
   ]
  }
 ],
 "metadata": {
  "kernelspec": {
   "display_name": ".venv",
   "language": "python",
   "name": "python3"
  },
  "language_info": {
   "codemirror_mode": {
    "name": "ipython",
    "version": 3
   },
   "file_extension": ".py",
   "mimetype": "text/x-python",
   "name": "python",
   "nbconvert_exporter": "python",
   "pygments_lexer": "ipython3",
   "version": "3.11.4"
  },
  "orig_nbformat": 4
 },
 "nbformat": 4,
 "nbformat_minor": 2
}
