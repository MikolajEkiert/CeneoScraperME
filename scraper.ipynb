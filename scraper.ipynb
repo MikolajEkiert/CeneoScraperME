{
 "cells": [
  {
   "attachments": {},
   "cell_type": "markdown",
   "metadata": {},
   "source": [
    "## Ceneo Scraper"
   ]
  },
  {
   "attachments": {},
   "cell_type": "markdown",
   "metadata": {},
   "source": [
    "## załadowanie bibliotek\n"
   ]
  },
  {
   "cell_type": "code",
   "execution_count": 3,
   "metadata": {},
   "outputs": [],
   "source": [
    "import requests\n",
    "from bs4 import BeautifulSoup"
   ]
  },
  {
   "attachments": {},
   "cell_type": "markdown",
   "metadata": {},
   "source": [
    "## wysyłanie zapytania do serwera"
   ]
  },
  {
   "cell_type": "code",
   "execution_count": 4,
   "metadata": {},
   "outputs": [
    {
     "data": {
      "text/plain": [
       "200"
      ]
     },
     "execution_count": 4,
     "metadata": {},
     "output_type": "execute_result"
    }
   ],
   "source": [
    "product_id = \"138331381\"\n",
    "url = f\"https://www.ceneo.pl/{product_id}#tab=reviews\"\n",
    "response = requests.get(url)\n",
    "response.status_code\n",
    "\n"
   ]
  },
  {
   "cell_type": "code",
   "execution_count": 10,
   "metadata": {},
   "outputs": [
    {
     "name": "stdout",
     "output_type": "stream",
     "text": [
      "<class 'bs4.BeautifulSoup'>\n",
      "<class 'bs4.element.ResultSet'>\n"
     ]
    }
   ],
   "source": [
    "page_dom = BeautifulSoup(response.text, \"html.parser\")\n",
    "print(type(page_dom))\n",
    "opinions = page_dom.select(\"div.js_product-review\")\n",
    "print(type(opinions))\n",
    "opinion = opinions.pop(0)\n"
   ]
  },
  {
   "attachments": {},
   "cell_type": "markdown",
   "metadata": {},
   "source": [
    "## Ekstrakcje składowych pojedynczej opinii\n",
    "|Składowa|Selektor|zmienna|\n",
    "|--------|--------|-------|\n",
    "|id opinii|[data-entry-id]| opinion_id|\n",
    "|autor|span.user-post__author-name|author|\n",
    "|rekomendacja|span.user-post__author-recomendation|recommendation|\n",
    "|gwiazdki|span.user-post__score-count|stars|\n",
    "|treść|div.user-post__text|contents|\n",
    "|lista zalet|div.review-feature__title--positives ~ div.review-feature_item|pros|\n",
    "|lisita wad|div.review-feature__title--negatives ~ div.review-feature_item|cons| \n",
    "|dla ilu przydatna|button.vote-yes > span|helpful|\n",
    "|dla ilu nieprzydatna| button.vote-no > span|unhelpful|\n",
    "|data wystawienia|span.user-post_published > time:nth-child(1)[\"datetime\"]|publish_date|\n",
    "|data zakupu|span.user-post_published > time:nth-child(2)[\"datetime\"]|purchase_date|\n"
   ]
  },
  {
   "cell_type": "code",
   "execution_count": null,
   "metadata": {},
   "outputs": [],
   "source": [
    "opinion_id = opinion[\"div.data-entry-id\"]\n",
    "author = opinion.select_one(\"div.user-post__author-name\")\n",
    "recommendation = opinion.select_one(\"div.user-post__author-recomendation\")\n",
    "stars = opinion.select_one(\"div.user-post__score-count\")\n",
    "contents = opinion.select_one(\"div.user-post__text\")\n",
    "pros = opinion.select_one(\"div.review-feature__title review-feature__title--positives\")\n",
    "cons = opinion.select_one(\"div.review-feature__title review-feature__title--\")\n",
    "helpful = opinion.select_one(\"div.js_product-review-usefulness vote\")\n",
    "unhelpful = opinion.select_one(\"div.user-post__author-name\")\n",
    "publish_date = opinion.select_one(\"div.user-post__author-name\")\n",
    "purchase_date =  opinion.select_one(\"div.user-post__author-name\")"
   ]
  }
 ],
 "metadata": {
  "kernelspec": {
   "display_name": ".venv",
   "language": "python",
   "name": "python3"
  },
  "language_info": {
   "codemirror_mode": {
    "name": "ipython",
    "version": 3
   },
   "file_extension": ".py",
   "mimetype": "text/x-python",
   "name": "python",
   "nbconvert_exporter": "python",
   "pygments_lexer": "ipython3",
   "version": "3.11.4"
  },
  "orig_nbformat": 4
 },
 "nbformat": 4,
 "nbformat_minor": 2
}
